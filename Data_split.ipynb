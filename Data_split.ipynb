{
 "cells": [
  {
   "cell_type": "code",
   "execution_count": 1,
   "metadata": {},
   "outputs": [],
   "source": [
    "import os\n",
    "import glob"
   ]
  },
  {
   "cell_type": "code",
   "execution_count": 3,
   "metadata": {},
   "outputs": [],
   "source": [
    "#the data is in the obj folder inside of darknet->data\n",
    "current_dir=r\"C:\\Users\\home\\Desktop\\Sahiloz\\ANPR\\darknet-master\\data\\obj\""
   ]
  },
  {
   "cell_type": "code",
   "execution_count": 13,
   "metadata": {},
   "outputs": [],
   "source": [
    "path_data=r\"C:\\Users\\home\\Desktop\\Sahiloz\\ANPR\\data\\obj\\\\\""
   ]
  },
  {
   "cell_type": "code",
   "execution_count": 14,
   "metadata": {},
   "outputs": [],
   "source": [
    "#size of test data is 10% of total data size\n",
    "test_size=10\n",
    "train_data=open(\"train.txt\",\"w\")\n",
    "test_data=open(\"test.txt\",\"w\")\n"
   ]
  },
  {
   "cell_type": "code",
   "execution_count": 15,
   "metadata": {},
   "outputs": [],
   "source": [
    "counter=1\n",
    "index_test=round(100/test_size)\n",
    "for filename in glob.iglob(os.path.join(current_dir,\"*.jpg\")):\n",
    "    title,ext=os.path.splitext(os.path.basename(filename))\n",
    "    if counter == index_test:\n",
    "        counter = 1\n",
    "        test_data.write(path_data + title + '.jpg' + \"\\n\")\n",
    "    else:\n",
    "        train_data.write(path_data + title + '.jpg' + \"\\n\")\n",
    "        counter = counter + 1"
   ]
  },
  {
   "cell_type": "code",
   "execution_count": null,
   "metadata": {},
   "outputs": [],
   "source": []
  }
 ],
 "metadata": {
  "kernelspec": {
   "display_name": "Python 3",
   "language": "python",
   "name": "python3"
  },
  "language_info": {
   "codemirror_mode": {
    "name": "ipython",
    "version": 3
   },
   "file_extension": ".py",
   "mimetype": "text/x-python",
   "name": "python",
   "nbconvert_exporter": "python",
   "pygments_lexer": "ipython3",
   "version": "3.5.6"
  }
 },
 "nbformat": 4,
 "nbformat_minor": 2
}
